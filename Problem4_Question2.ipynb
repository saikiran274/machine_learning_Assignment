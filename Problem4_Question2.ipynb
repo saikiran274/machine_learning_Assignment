{
  "nbformat": 4,
  "nbformat_minor": 0,
  "metadata": {
    "colab": {
      "name": "Problem4_Question2",
      "provenance": [],
      "collapsed_sections": []
    },
    "kernelspec": {
      "name": "python3",
      "display_name": "Python 3"
    }
  },
  "cells": [
    {
      "cell_type": "markdown",
      "metadata": {
        "id": "dyrILRdDHeZD"
      },
      "source": [
        "#Twitter  Analysis "
      ]
    },
    {
      "cell_type": "markdown",
      "metadata": {
        "id": "H3IxyPq09bHt"
      },
      "source": [
        "a. Import required libraries (recommended- use tensorflow/keras library).\n",
        "\n",
        "b. Import the dataset (use Google Drive if required).\n",
        "\n",
        "c. Check the GPU available (recommended- use free GPU provided by Google Colab)."
      ]
    },
    {
      "cell_type": "code",
      "metadata": {
        "id": "okSaGX4J6lyD"
      },
      "source": [
        "import nltk\n",
        "from nltk.corpus import stopwords\n",
        "import re\n",
        "import joblib\n",
        "from keras.preprocessing.text import Tokenizer\n",
        "import gensim\n",
        "from keras.preprocessing.sequence import pad_sequences\n",
        "from sklearn.preprocessing import LabelEncoder\n",
        "from keras.layers import Embedding\n",
        "from keras.models import Sequential\n",
        "from keras.layers import Dense,LSTM,Dropout\n",
        "from sklearn.metrics import confusion_matrix,accuracy_score,classification_report\n",
        "import numpy as np # linear algebra\n",
        "import pandas as pd # data processing, CSV file I/O (e.g. pd.read_csv)\n",
        "import matplotlib.pyplot as plt\n",
        "%matplotlib inline\n",
        "\n",
        "import os\n",
        "for dirname, _, filenames in os.walk('/kaggle/input'):\n",
        "    for filename in filenames:\n",
        "        print(os.path.join(dirname, filename))\n",
        "\n",
        "import tensorflow as tf\n",
        "from keras.datasets import cifar10\n",
        "tf.test.gpu_device_name()\n",
        "from tensorflow.python.client import device_lib\n",
        "device_lib.list_local_devices()\n"
      ],
      "execution_count": 167,
      "outputs": []
    },
    {
      "cell_type": "markdown",
      "metadata": {
        "id": "tx1EO7icHdwf"
      },
      "source": [
        ""
      ]
    },
    {
      "cell_type": "code",
      "metadata": {
        "id": "DZnbU8GwYnWn",
        "outputId": "b13d1c43-a800-4b2a-a8b5-6f6c0bea811b",
        "colab": {
          "base_uri": "https://localhost:8080/",
          "height": 136
        }
      },
      "source": [
        "import pandas as pd \n",
        "\n",
        "# Reading the data from google drives\n",
        "twitterData = pd.read_csv('/content/training.1600000.processed.noemoticon.csv',encoding='latin-1',header=None)\n",
        "\n",
        "columns=['target','ids','date','flag','user','tweet']\n",
        "twitterData.columns=columns\n",
        "\n",
        "twitterData.head()\n",
        "twitterData['tweet'] = twitterData['tweet'].astype(str) \n",
        "twitterData.dtypes\n"
      ],
      "execution_count": 169,
      "outputs": [
        {
          "output_type": "execute_result",
          "data": {
            "text/plain": [
              "target     int64\n",
              "ids        int64\n",
              "date      object\n",
              "flag      object\n",
              "user      object\n",
              "tweet     object\n",
              "dtype: object"
            ]
          },
          "metadata": {
            "tags": []
          },
          "execution_count": 169
        }
      ]
    },
    {
      "cell_type": "markdown",
      "metadata": {
        "id": "Zp4-hays9wQi"
      },
      "source": [
        ""
      ]
    },
    {
      "cell_type": "code",
      "metadata": {
        "id": "L-VcmS39gsQI"
      },
      "source": [
        "def preprocessing_text(twitterData):\n",
        "    #put everythin in lowercase\n",
        "    twitterData['tweet'] = twitterData['tweet'].str.lower()\n",
        "    #Replace rt indicating that was a retweet\n",
        "    twitterData['tweet'] = twitterData['tweet'].str.replace('rt', '')\n",
        "    #Replace occurences of mentioning @UserNames\n",
        "    twitterData['tweet'] = twitterData['tweet'].replace(r'@\\w+', '', regex=True)\n",
        "    #Replace links contained in the tweet\n",
        "    twitterData['tweet'] = twitterData['tweet'].replace(r'http\\S+', '', regex=True)\n",
        "    twitterData['tweet'] = twitterData['tweet'].replace(r'www.[^ ]+', '', regex=True)\n",
        "    #remove numbers\n",
        "    twitterData['tweet'] = twitterData['tweet'].replace(r'[0-9]+', '', regex=True)\n",
        "    #replace special characters and puntuation marks\n",
        "    twitterData['tweet'] = twitterData['tweet'].replace(r'[!\"#$%&()*+,-./:;<=>?@[\\]^_`{|}~]', '', regex=True)\n",
        "    return twitterData\n",
        "\n"
      ],
      "execution_count": 170,
      "outputs": []
    },
    {
      "cell_type": "markdown",
      "metadata": {
        "id": "D1dVKjeX9xBq"
      },
      "source": [
        "a. Print at least two tweets from each class of the dataset, for a sanity check that labels match the text.\n",
        "\n",
        "b. Plot a bar graph of class distribution in dataset. Each bar depicts the number of tweets belonging to a\n",
        "particular sentiment. (recommended - matplotlib/seaborn libraries)\n",
        "\n",
        "c. Any other visualizations that seem appropriate for this problem are encouraged but not necessary, for\n",
        "the points.\n",
        "\n",
        "d. Print the shapes of train and test data"
      ]
    },
    {
      "cell_type": "code",
      "metadata": {
        "id": "XKMBoiOshYjG",
        "outputId": "ec01ab23-36a0-4d2d-ab9f-bd5a2b6f383b",
        "colab": {
          "base_uri": "https://localhost:8080/",
          "height": 204
        }
      },
      "source": [
        "twitterData  = preprocessing_text(twitterData)\n",
        "\n",
        "twitterData.target.replace({0:'Negative',2:'Neutral',4:'Positive'},inplace=True)\n",
        "\n",
        "twitterData.head()"
      ],
      "execution_count": 171,
      "outputs": [
        {
          "output_type": "execute_result",
          "data": {
            "text/html": [
              "<div>\n",
              "<style scoped>\n",
              "    .dataframe tbody tr th:only-of-type {\n",
              "        vertical-align: middle;\n",
              "    }\n",
              "\n",
              "    .dataframe tbody tr th {\n",
              "        vertical-align: top;\n",
              "    }\n",
              "\n",
              "    .dataframe thead th {\n",
              "        text-align: right;\n",
              "    }\n",
              "</style>\n",
              "<table border=\"1\" class=\"dataframe\">\n",
              "  <thead>\n",
              "    <tr style=\"text-align: right;\">\n",
              "      <th></th>\n",
              "      <th>target</th>\n",
              "      <th>ids</th>\n",
              "      <th>date</th>\n",
              "      <th>flag</th>\n",
              "      <th>user</th>\n",
              "      <th>tweet</th>\n",
              "    </tr>\n",
              "  </thead>\n",
              "  <tbody>\n",
              "    <tr>\n",
              "      <th>0</th>\n",
              "      <td>Negative</td>\n",
              "      <td>1467810369</td>\n",
              "      <td>Mon Apr 06 22:19:45 PDT 2009</td>\n",
              "      <td>NO_QUERY</td>\n",
              "      <td>_TheSpecialOne_</td>\n",
              "      <td>awww that's a bummer  you shoulda got david...</td>\n",
              "    </tr>\n",
              "    <tr>\n",
              "      <th>1</th>\n",
              "      <td>Negative</td>\n",
              "      <td>1467810672</td>\n",
              "      <td>Mon Apr 06 22:19:49 PDT 2009</td>\n",
              "      <td>NO_QUERY</td>\n",
              "      <td>scotthamilton</td>\n",
              "      <td>is upset that he can't update his facebook by ...</td>\n",
              "    </tr>\n",
              "    <tr>\n",
              "      <th>2</th>\n",
              "      <td>Negative</td>\n",
              "      <td>1467810917</td>\n",
              "      <td>Mon Apr 06 22:19:53 PDT 2009</td>\n",
              "      <td>NO_QUERY</td>\n",
              "      <td>mattycus</td>\n",
              "      <td>i dived many times for the ball managed to sa...</td>\n",
              "    </tr>\n",
              "    <tr>\n",
              "      <th>3</th>\n",
              "      <td>Negative</td>\n",
              "      <td>1467811184</td>\n",
              "      <td>Mon Apr 06 22:19:57 PDT 2009</td>\n",
              "      <td>NO_QUERY</td>\n",
              "      <td>ElleCTF</td>\n",
              "      <td>my whole body feels itchy and like its on fire</td>\n",
              "    </tr>\n",
              "    <tr>\n",
              "      <th>4</th>\n",
              "      <td>Negative</td>\n",
              "      <td>1467811193</td>\n",
              "      <td>Mon Apr 06 22:19:57 PDT 2009</td>\n",
              "      <td>NO_QUERY</td>\n",
              "      <td>Karoli</td>\n",
              "      <td>no it's not behaving at all i'm mad why am i ...</td>\n",
              "    </tr>\n",
              "  </tbody>\n",
              "</table>\n",
              "</div>"
            ],
            "text/plain": [
              "     target  ...                                              tweet\n",
              "0  Negative  ...     awww that's a bummer  you shoulda got david...\n",
              "1  Negative  ...  is upset that he can't update his facebook by ...\n",
              "2  Negative  ...   i dived many times for the ball managed to sa...\n",
              "3  Negative  ...    my whole body feels itchy and like its on fire \n",
              "4  Negative  ...   no it's not behaving at all i'm mad why am i ...\n",
              "\n",
              "[5 rows x 6 columns]"
            ]
          },
          "metadata": {
            "tags": []
          },
          "execution_count": 171
        }
      ]
    },
    {
      "cell_type": "code",
      "metadata": {
        "id": "fy-HID5qtUHz",
        "outputId": "be330362-f9b6-49da-ff77-b21b8d6b96ec",
        "colab": {
          "base_uri": "https://localhost:8080/",
          "height": 204
        }
      },
      "source": [
        "stop_words=set(stopwords.words('english'))\n",
        "import re\n",
        "corpus=[]\n",
        "for i in range(0,len(twitterData)):\n",
        "    review=re.sub('@\\S+|https?:\\S+|http?:\\S|[^A-Za-z0-9]+',' ',twitterData['tweet'][i])\n",
        "    review=review.lower()\n",
        "    review=review.split()\n",
        "    review=[word for word in review if not word in stop_words]\n",
        "    review=' '.join(review)\n",
        "    corpus.append(review)\n",
        "\n",
        "twitterData.tweet=corpus\n",
        "twitterData.head()"
      ],
      "execution_count": 172,
      "outputs": [
        {
          "output_type": "execute_result",
          "data": {
            "text/html": [
              "<div>\n",
              "<style scoped>\n",
              "    .dataframe tbody tr th:only-of-type {\n",
              "        vertical-align: middle;\n",
              "    }\n",
              "\n",
              "    .dataframe tbody tr th {\n",
              "        vertical-align: top;\n",
              "    }\n",
              "\n",
              "    .dataframe thead th {\n",
              "        text-align: right;\n",
              "    }\n",
              "</style>\n",
              "<table border=\"1\" class=\"dataframe\">\n",
              "  <thead>\n",
              "    <tr style=\"text-align: right;\">\n",
              "      <th></th>\n",
              "      <th>target</th>\n",
              "      <th>ids</th>\n",
              "      <th>date</th>\n",
              "      <th>flag</th>\n",
              "      <th>user</th>\n",
              "      <th>tweet</th>\n",
              "    </tr>\n",
              "  </thead>\n",
              "  <tbody>\n",
              "    <tr>\n",
              "      <th>0</th>\n",
              "      <td>Negative</td>\n",
              "      <td>1467810369</td>\n",
              "      <td>Mon Apr 06 22:19:45 PDT 2009</td>\n",
              "      <td>NO_QUERY</td>\n",
              "      <td>_TheSpecialOne_</td>\n",
              "      <td>awww bummer shoulda got david carr third day</td>\n",
              "    </tr>\n",
              "    <tr>\n",
              "      <th>1</th>\n",
              "      <td>Negative</td>\n",
              "      <td>1467810672</td>\n",
              "      <td>Mon Apr 06 22:19:49 PDT 2009</td>\n",
              "      <td>NO_QUERY</td>\n",
              "      <td>scotthamilton</td>\n",
              "      <td>upset update facebook texting might cry result...</td>\n",
              "    </tr>\n",
              "    <tr>\n",
              "      <th>2</th>\n",
              "      <td>Negative</td>\n",
              "      <td>1467810917</td>\n",
              "      <td>Mon Apr 06 22:19:53 PDT 2009</td>\n",
              "      <td>NO_QUERY</td>\n",
              "      <td>mattycus</td>\n",
              "      <td>dived many times ball managed save rest go bounds</td>\n",
              "    </tr>\n",
              "    <tr>\n",
              "      <th>3</th>\n",
              "      <td>Negative</td>\n",
              "      <td>1467811184</td>\n",
              "      <td>Mon Apr 06 22:19:57 PDT 2009</td>\n",
              "      <td>NO_QUERY</td>\n",
              "      <td>ElleCTF</td>\n",
              "      <td>whole body feels itchy like fire</td>\n",
              "    </tr>\n",
              "    <tr>\n",
              "      <th>4</th>\n",
              "      <td>Negative</td>\n",
              "      <td>1467811193</td>\n",
              "      <td>Mon Apr 06 22:19:57 PDT 2009</td>\n",
              "      <td>NO_QUERY</td>\n",
              "      <td>Karoli</td>\n",
              "      <td>behaving mad see</td>\n",
              "    </tr>\n",
              "  </tbody>\n",
              "</table>\n",
              "</div>"
            ],
            "text/plain": [
              "     target  ...                                              tweet\n",
              "0  Negative  ...       awww bummer shoulda got david carr third day\n",
              "1  Negative  ...  upset update facebook texting might cry result...\n",
              "2  Negative  ...  dived many times ball managed save rest go bounds\n",
              "3  Negative  ...                   whole body feels itchy like fire\n",
              "4  Negative  ...                                   behaving mad see\n",
              "\n",
              "[5 rows x 6 columns]"
            ]
          },
          "metadata": {
            "tags": []
          },
          "execution_count": 172
        }
      ]
    },
    {
      "cell_type": "code",
      "metadata": {
        "id": "2sOvD2NHvd0J"
      },
      "source": [
        "from sklearn.model_selection import train_test_split\n",
        "train_df,test_df=train_test_split(twitterData,test_size=0.20,random_state=123)"
      ],
      "execution_count": 173,
      "outputs": []
    },
    {
      "cell_type": "code",
      "metadata": {
        "id": "2XygPCZmvyPX",
        "outputId": "fe480195-4754-474b-d2cd-af72cff7bb0a",
        "colab": {
          "base_uri": "https://localhost:8080/",
          "height": 204
        }
      },
      "source": [
        "train_df.head()\n"
      ],
      "execution_count": 174,
      "outputs": [
        {
          "output_type": "execute_result",
          "data": {
            "text/html": [
              "<div>\n",
              "<style scoped>\n",
              "    .dataframe tbody tr th:only-of-type {\n",
              "        vertical-align: middle;\n",
              "    }\n",
              "\n",
              "    .dataframe tbody tr th {\n",
              "        vertical-align: top;\n",
              "    }\n",
              "\n",
              "    .dataframe thead th {\n",
              "        text-align: right;\n",
              "    }\n",
              "</style>\n",
              "<table border=\"1\" class=\"dataframe\">\n",
              "  <thead>\n",
              "    <tr style=\"text-align: right;\">\n",
              "      <th></th>\n",
              "      <th>target</th>\n",
              "      <th>ids</th>\n",
              "      <th>date</th>\n",
              "      <th>flag</th>\n",
              "      <th>user</th>\n",
              "      <th>tweet</th>\n",
              "    </tr>\n",
              "  </thead>\n",
              "  <tbody>\n",
              "    <tr>\n",
              "      <th>27146</th>\n",
              "      <td>Negative</td>\n",
              "      <td>1559066190</td>\n",
              "      <td>Sun Apr 19 10:10:00 PDT 2009</td>\n",
              "      <td>NO_QUERY</td>\n",
              "      <td>paulrichardson</td>\n",
              "      <td>pay last night good old emma comes trumps food...</td>\n",
              "    </tr>\n",
              "    <tr>\n",
              "      <th>29909</th>\n",
              "      <td>Negative</td>\n",
              "      <td>1563619868</td>\n",
              "      <td>Sun Apr 19 23:32:55 PDT 2009</td>\n",
              "      <td>NO_QUERY</td>\n",
              "      <td>dustinwill</td>\n",
              "      <td>yess wtff well least one thanks</td>\n",
              "    </tr>\n",
              "    <tr>\n",
              "      <th>981</th>\n",
              "      <td>Negative</td>\n",
              "      <td>1468052470</td>\n",
              "      <td>Mon Apr 06 23:27:48 PDT 2009</td>\n",
              "      <td>NO_QUERY</td>\n",
              "      <td>Meg_Nutz</td>\n",
              "      <td>seating helping baby paperswell forcing seat i...</td>\n",
              "    </tr>\n",
              "    <tr>\n",
              "      <th>34990</th>\n",
              "      <td>Negative</td>\n",
              "      <td>1565034564</td>\n",
              "      <td>Mon Apr 20 05:42:31 PDT 2009</td>\n",
              "      <td>NO_QUERY</td>\n",
              "      <td>abjohnson85</td>\n",
              "      <td>enjoying marathon monday confines cubicle sure...</td>\n",
              "    </tr>\n",
              "    <tr>\n",
              "      <th>15886</th>\n",
              "      <td>Negative</td>\n",
              "      <td>1555691706</td>\n",
              "      <td>Sat Apr 18 20:25:28 PDT 2009</td>\n",
              "      <td>NO_QUERY</td>\n",
              "      <td>oldbluebox</td>\n",
              "      <td>cody making play ld christopher room</td>\n",
              "    </tr>\n",
              "  </tbody>\n",
              "</table>\n",
              "</div>"
            ],
            "text/plain": [
              "         target  ...                                              tweet\n",
              "27146  Negative  ...  pay last night good old emma comes trumps food...\n",
              "29909  Negative  ...                    yess wtff well least one thanks\n",
              "981    Negative  ...  seating helping baby paperswell forcing seat i...\n",
              "34990  Negative  ...  enjoying marathon monday confines cubicle sure...\n",
              "15886  Negative  ...               cody making play ld christopher room\n",
              "\n",
              "[5 rows x 6 columns]"
            ]
          },
          "metadata": {
            "tags": []
          },
          "execution_count": 174
        }
      ]
    },
    {
      "cell_type": "code",
      "metadata": {
        "id": "8F4jO4ckwADr",
        "outputId": "9052e2b5-2a93-4e35-a122-fe57322296e6",
        "colab": {
          "base_uri": "https://localhost:8080/",
          "height": 204
        }
      },
      "source": [
        "test_df.head()"
      ],
      "execution_count": 175,
      "outputs": [
        {
          "output_type": "execute_result",
          "data": {
            "text/html": [
              "<div>\n",
              "<style scoped>\n",
              "    .dataframe tbody tr th:only-of-type {\n",
              "        vertical-align: middle;\n",
              "    }\n",
              "\n",
              "    .dataframe tbody tr th {\n",
              "        vertical-align: top;\n",
              "    }\n",
              "\n",
              "    .dataframe thead th {\n",
              "        text-align: right;\n",
              "    }\n",
              "</style>\n",
              "<table border=\"1\" class=\"dataframe\">\n",
              "  <thead>\n",
              "    <tr style=\"text-align: right;\">\n",
              "      <th></th>\n",
              "      <th>target</th>\n",
              "      <th>ids</th>\n",
              "      <th>date</th>\n",
              "      <th>flag</th>\n",
              "      <th>user</th>\n",
              "      <th>tweet</th>\n",
              "    </tr>\n",
              "  </thead>\n",
              "  <tbody>\n",
              "    <tr>\n",
              "      <th>25532</th>\n",
              "      <td>Negative</td>\n",
              "      <td>1558371151</td>\n",
              "      <td>Sun Apr 19 08:09:59 PDT 2009</td>\n",
              "      <td>NO_QUERY</td>\n",
              "      <td>mhk794</td>\n",
              "      <td>cold rainy</td>\n",
              "    </tr>\n",
              "    <tr>\n",
              "      <th>21401</th>\n",
              "      <td>Negative</td>\n",
              "      <td>1557272230</td>\n",
              "      <td>Sun Apr 19 03:03:53 PDT 2009</td>\n",
              "      <td>NO_QUERY</td>\n",
              "      <td>natcauliflower</td>\n",
              "      <td>oh get meet maybe find udo gardening careful l...</td>\n",
              "    </tr>\n",
              "    <tr>\n",
              "      <th>39607</th>\n",
              "      <td>Negative</td>\n",
              "      <td>1573572084</td>\n",
              "      <td>Tue Apr 21 01:48:42 PDT 2009</td>\n",
              "      <td>NO_QUERY</td>\n",
              "      <td>oz86</td>\n",
              "      <td>tricked seeing lol</td>\n",
              "    </tr>\n",
              "    <tr>\n",
              "      <th>27085</th>\n",
              "      <td>Negative</td>\n",
              "      <td>1559035759</td>\n",
              "      <td>Sun Apr 19 10:04:59 PDT 2009</td>\n",
              "      <td>NO_QUERY</td>\n",
              "      <td>a_paige</td>\n",
              "      <td>omg yes remember telling came smh glad pay haha</td>\n",
              "    </tr>\n",
              "    <tr>\n",
              "      <th>26744</th>\n",
              "      <td>Negative</td>\n",
              "      <td>1558880941</td>\n",
              "      <td>Sun Apr 19 09:39:39 PDT 2009</td>\n",
              "      <td>NO_QUERY</td>\n",
              "      <td>Heidi_vb</td>\n",
              "      <td>actually idea jst curious ur profile minimum l...</td>\n",
              "    </tr>\n",
              "  </tbody>\n",
              "</table>\n",
              "</div>"
            ],
            "text/plain": [
              "         target  ...                                              tweet\n",
              "25532  Negative  ...                                         cold rainy\n",
              "21401  Negative  ...  oh get meet maybe find udo gardening careful l...\n",
              "39607  Negative  ...                                 tricked seeing lol\n",
              "27085  Negative  ...    omg yes remember telling came smh glad pay haha\n",
              "26744  Negative  ...  actually idea jst curious ur profile minimum l...\n",
              "\n",
              "[5 rows x 6 columns]"
            ]
          },
          "metadata": {
            "tags": []
          },
          "execution_count": 175
        }
      ]
    },
    {
      "cell_type": "markdown",
      "metadata": {
        "id": "d-QbT21SiwYF"
      },
      "source": [
        "Neural Network Model"
      ]
    },
    {
      "cell_type": "code",
      "metadata": {
        "id": "KQGcYpLVh5cV"
      },
      "source": [
        "documents = [text.split() for text in x_train.tweet]\n",
        "w2v_model = gensim.models.word2vec.Word2Vec(size=300, \n",
        "                                            window=7, \n",
        "                                            min_count=10, \n",
        "                                            workers=8)"
      ],
      "execution_count": 176,
      "outputs": []
    },
    {
      "cell_type": "code",
      "metadata": {
        "id": "GHlnXLjCwqKV",
        "outputId": "f6fd4114-b5a4-4609-8d2a-d6ce9a4f9003",
        "colab": {
          "base_uri": "https://localhost:8080/",
          "height": 34
        }
      },
      "source": [
        "w2v_model.build_vocab(documents)\n",
        "words = w2v_model.wv.vocab.keys()\n",
        "vocab_size = len(words)\n",
        "print(\"Vocab size\", vocab_size)"
      ],
      "execution_count": 177,
      "outputs": [
        {
          "output_type": "stream",
          "text": [
            "Vocab size 2773\n"
          ],
          "name": "stdout"
        }
      ]
    },
    {
      "cell_type": "code",
      "metadata": {
        "id": "vqP_SEhd2bk0",
        "outputId": "5b4d3e11-351a-4300-fbfd-cab4ee5dbb66",
        "colab": {
          "base_uri": "https://localhost:8080/",
          "height": 34
        }
      },
      "source": [
        "w2v_model.train(documents, total_examples=len(documents), epochs=30)"
      ],
      "execution_count": 178,
      "outputs": [
        {
          "output_type": "execute_result",
          "data": {
            "text/plain": [
              "(5056825, 7095090)"
            ]
          },
          "metadata": {
            "tags": []
          },
          "execution_count": 178
        }
      ]
    },
    {
      "cell_type": "code",
      "metadata": {
        "id": "Z1S8sb1Q2igW",
        "outputId": "5645c56d-b038-4720-c53c-bb0c8d46c8fa",
        "colab": {
          "base_uri": "https://localhost:8080/",
          "height": 34
        }
      },
      "source": [
        "tokenizer = Tokenizer()\n",
        "tokenizer.fit_on_texts(x_train.tweet)\n",
        "vocab_size=len(tokenizer.word_index)+1\n",
        "vocab_size"
      ],
      "execution_count": 179,
      "outputs": [
        {
          "output_type": "execute_result",
          "data": {
            "text/plain": [
              "29183"
            ]
          },
          "metadata": {
            "tags": []
          },
          "execution_count": 179
        }
      ]
    },
    {
      "cell_type": "code",
      "metadata": {
        "id": "R4MDtzbL26Xv",
        "outputId": "df353df9-690c-4b3b-c4de-df6a3f38a9fd",
        "colab": {
          "base_uri": "https://localhost:8080/",
          "height": 136
        }
      },
      "source": [
        "X_train = pad_sequences(tokenizer.texts_to_sequences(x_train.tweet), maxlen=300)\n",
        "X_train"
      ],
      "execution_count": 180,
      "outputs": [
        {
          "output_type": "execute_result",
          "data": {
            "text/plain": [
              "array([[    0,     0,     0, ...,    15,    22,    42],\n",
              "       [    0,     0,     0, ...,     2,   215, 10895],\n",
              "       [    0,     0,     0, ...,   107,    57,    22],\n",
              "       ...,\n",
              "       [    0,     0,     0, ...,   116,  6348,    17],\n",
              "       [    0,     0,     0, ...,   242,  7310, 29182],\n",
              "       [    0,     0,     0, ...,    16,   520,    14]], dtype=int32)"
            ]
          },
          "metadata": {
            "tags": []
          },
          "execution_count": 180
        }
      ]
    },
    {
      "cell_type": "code",
      "metadata": {
        "id": "bU6g-rjY3ANe",
        "outputId": "1b46b8b5-5f86-46a2-ec60-fc5a70e70e3e",
        "colab": {
          "base_uri": "https://localhost:8080/",
          "height": 136
        }
      },
      "source": [
        "X_test = pad_sequences(tokenizer.texts_to_sequences(x_test.tweet), maxlen=300)\n",
        "X_test"
      ],
      "execution_count": 181,
      "outputs": [
        {
          "output_type": "execute_result",
          "data": {
            "text/plain": [
              "array([[   0,    0,    0, ...,    6,  348,  348],\n",
              "       [   0,    0,    0, ..., 1347,  634,  167],\n",
              "       [   0,    0,    0, ...,   64,    2,   22],\n",
              "       ...,\n",
              "       [   0,    0,    0, ...,   84,  341,  587],\n",
              "       [   0,    0,    0, ...,  178,  171, 3839],\n",
              "       [   0,    0,    0, ...,  141,  320,   14]], dtype=int32)"
            ]
          },
          "metadata": {
            "tags": []
          },
          "execution_count": 181
        }
      ]
    },
    {
      "cell_type": "code",
      "metadata": {
        "id": "s7bXu-kR3Jwa",
        "outputId": "fa4884a1-93c6-4262-d330-b497ea22e7a4",
        "colab": {
          "base_uri": "https://localhost:8080/",
          "height": 119
        }
      },
      "source": [
        "y_train=X_train.target\n",
        "y_test=X_test.target\n",
        "y_train.head()"
      ],
      "execution_count": 182,
      "outputs": [
        {
          "output_type": "execute_result",
          "data": {
            "text/plain": [
              "42292    Negative\n",
              "11126    Negative\n",
              "19555    Negative\n",
              "41672    Negative\n",
              "26671    Negative\n",
              "Name: target, dtype: object"
            ]
          },
          "metadata": {
            "tags": []
          },
          "execution_count": 182
        }
      ]
    },
    {
      "cell_type": "code",
      "metadata": {
        "id": "uIIFkBA87ac9",
        "outputId": "2baa5d83-b285-4f91-8e89-7fc4de0dd24d",
        "colab": {
          "base_uri": "https://localhost:8080/",
          "height": 34
        }
      },
      "source": [
        "labelencoder = LabelEncoder()\n",
        "y_train = labelencoder.fit_transform(y_train)\n",
        "y_test=labelencoder.fit_transform(y_test)\n",
        "y_train.shape\n",
        "y_test.shape\n",
        "\n",
        "print('Training datadetails X=%s,Y=%s'%(X_train.shape,y_train.shape))\n",
        "print('Test datadetails x=%s,y=%s'%(X_test.shape,y_test.shape))"
      ],
      "execution_count": 183,
      "outputs": [
        {
          "output_type": "execute_result",
          "data": {
            "text/plain": [
              "(8475,)"
            ]
          },
          "metadata": {
            "tags": []
          },
          "execution_count": 183
        }
      ]
    },
    {
      "cell_type": "code",
      "metadata": {
        "id": "o57f0Aj_3YEW",
        "outputId": "e2cd3bea-b4b2-49c8-be4d-63f22f677ebf",
        "colab": {
          "base_uri": "https://localhost:8080/",
          "height": 34
        }
      },
      "source": [
        "embedding_matrix = np.zeros((vocab_size, 300))\n",
        "for word, i in tokenizer.word_index.items():\n",
        "  if word in w2v_model.wv:\n",
        "    embedding_matrix[i] = w2v_model.wv[word]\n",
        "print(embedding_matrix.shape)"
      ],
      "execution_count": 184,
      "outputs": [
        {
          "output_type": "stream",
          "text": [
            "(29183, 300)\n"
          ],
          "name": "stdout"
        }
      ]
    },
    {
      "cell_type": "code",
      "metadata": {
        "id": "PiIe9pYw-S1I"
      },
      "source": [
        ""
      ],
      "execution_count": null,
      "outputs": []
    },
    {
      "cell_type": "code",
      "metadata": {
        "id": "cDi4WKuy3bqb"
      },
      "source": [
        "embedding_layer = Embedding(vocab_size, 300, weights=[embedding_matrix], input_length=300, trainable=False)"
      ],
      "execution_count": 185,
      "outputs": []
    },
    {
      "cell_type": "code",
      "metadata": {
        "id": "-Aq_tSwj3e5c",
        "outputId": "370987f3-766f-4524-a38c-236ea34dc09f",
        "colab": {
          "base_uri": "https://localhost:8080/",
          "height": 289
        }
      },
      "source": [
        "model = Sequential()\n",
        "model.add(embedding_layer)\n",
        "model.add(Dropout(0.5))\n",
        "model.add(LSTM(100, dropout=0.2, recurrent_dropout=0.2))\n",
        "model.add(Dense(1, activation='sigmoid'))\n",
        "model.summary()"
      ],
      "execution_count": 186,
      "outputs": [
        {
          "output_type": "stream",
          "text": [
            "Model: \"sequential_7\"\n",
            "_________________________________________________________________\n",
            "Layer (type)                 Output Shape              Param #   \n",
            "=================================================================\n",
            "embedding_1 (Embedding)      (None, 300, 300)          8754900   \n",
            "_________________________________________________________________\n",
            "dropout_13 (Dropout)         (None, 300, 300)          0         \n",
            "_________________________________________________________________\n",
            "lstm_1 (LSTM)                (None, 100)               160400    \n",
            "_________________________________________________________________\n",
            "dense_19 (Dense)             (None, 1)                 101       \n",
            "=================================================================\n",
            "Total params: 8,915,401\n",
            "Trainable params: 160,501\n",
            "Non-trainable params: 8,754,900\n",
            "_________________________________________________________________\n"
          ],
          "name": "stdout"
        }
      ]
    },
    {
      "cell_type": "markdown",
      "metadata": {
        "id": "7idJtn-B_gsB"
      },
      "source": [
        "5. Model Compilation (0.25 mark)\n",
        "\n",
        "      a. Compile the model with the appropriate loss function.\n",
        "\n",
        "      b. Use an appropriate optimizer. Give reasons for the choice of learning rate and its value.\n",
        "\n",
        "      c. Use accuracy as metric."
      ]
    },
    {
      "cell_type": "code",
      "metadata": {
        "id": "d9QU5-4l3j5j"
      },
      "source": [
        "model.compile(loss='binary_crossentropy',\n",
        "              optimizer=\"adam\",\n",
        "              metrics=['accuracy'])"
      ],
      "execution_count": 187,
      "outputs": []
    },
    {
      "cell_type": "markdown",
      "metadata": {
        "id": "YLQDR3O8_q8U"
      },
      "source": [
        "6. Model Training (0.5 + 0.5 = 1 mark)\n",
        "\n",
        "    a. Train the model for an appropriate number of epochs (print the train and validation accuracy/loss for\n",
        "each epoch). Use the appropriate batch size.\n",
        "\n",
        "    b. Plot the loss and accuracy history graphs. Print the total time taken for training."
      ]
    },
    {
      "cell_type": "code",
      "metadata": {
        "id": "MphC_REh3nz_",
        "outputId": "d5732bcc-b761-408a-e5a2-32642897034b",
        "colab": {
          "base_uri": "https://localhost:8080/",
          "height": 187
        }
      },
      "source": [
        "model_history=model.fit(X_train, y_train,batch_size=1024,epochs=5,validation_split=0.1,verbose=1)"
      ],
      "execution_count": 188,
      "outputs": [
        {
          "output_type": "stream",
          "text": [
            "Epoch 1/5\n",
            "30/30 [==============================] - 377s 13s/step - loss: 0.1642 - accuracy: 0.9666 - val_loss: 4.0727e-05 - val_accuracy: 1.0000\n",
            "Epoch 2/5\n",
            "30/30 [==============================] - 376s 13s/step - loss: 2.9655e-05 - accuracy: 1.0000 - val_loss: 1.7564e-05 - val_accuracy: 1.0000\n",
            "Epoch 3/5\n",
            "30/30 [==============================] - 379s 13s/step - loss: 2.0183e-05 - accuracy: 1.0000 - val_loss: 1.5249e-05 - val_accuracy: 1.0000\n",
            "Epoch 4/5\n",
            "30/30 [==============================] - 374s 12s/step - loss: 1.7947e-05 - accuracy: 1.0000 - val_loss: 1.3718e-05 - val_accuracy: 1.0000\n",
            "Epoch 5/5\n",
            "30/30 [==============================] - 374s 12s/step - loss: 1.6208e-05 - accuracy: 1.0000 - val_loss: 1.2338e-05 - val_accuracy: 1.0000\n"
          ],
          "name": "stdout"
        }
      ]
    },
    {
      "cell_type": "markdown",
      "metadata": {
        "id": "ZiarI_wj_2WA"
      },
      "source": [
        "7. Model Evaluation (0.25 + 0.75 = 1 mark)\n",
        "\n",
        "    a. Print the final test/validation loss and accuracy.\n",
        "\n",
        "    b. Print confusion matrix and classification report for the validation dataset. Write a summary for the\n",
        "best and worst performing class and the overall trend."
      ]
    },
    {
      "cell_type": "code",
      "metadata": {
        "id": "O3qRFOHH-UJi"
      },
      "source": [
        "acc = model_history.history['accuracy']\n",
        "val_acc = model_history.history['val_accuracy']\n",
        "loss = model_history.history['loss']\n",
        "val_loss = model_history.history['val_loss']\n",
        "epochs=range(len(acc))"
      ],
      "execution_count": 189,
      "outputs": []
    },
    {
      "cell_type": "code",
      "metadata": {
        "id": "h9nSLtl4-Xn7",
        "outputId": "fe4379a2-db45-4e3f-c04f-b35153b543a6",
        "colab": {
          "base_uri": "https://localhost:8080/",
          "height": 298
        }
      },
      "source": [
        "plt.plot(epochs,acc,label='Trainin_acc',color='blue')\n",
        "plt.plot(epochs,val_acc,label='Validation_acc',color='red')\n",
        "plt.legend()\n",
        "plt.title(\"Training and Validation Accuracy\")"
      ],
      "execution_count": 190,
      "outputs": [
        {
          "output_type": "execute_result",
          "data": {
            "text/plain": [
              "Text(0.5, 1.0, 'Training and Validation Accuracy')"
            ]
          },
          "metadata": {
            "tags": []
          },
          "execution_count": 190
        },
        {
          "output_type": "display_data",
          "data": {
            "image/png": "[encoded data removed]",
            "text/plain": [
              "<Figure size 432x288 with 1 Axes>"
            ]
          },
          "metadata": {
            "tags": [],
            "needs_background": "light"
          }
        }
      ]
    },
    {
      "cell_type": "code",
      "metadata": {
        "id": "yPaeaBzg-Z8X",
        "outputId": "5d348619-6d5f-4480-8186-6a1746df4a6d",
        "colab": {
          "base_uri": "https://localhost:8080/",
          "height": 298
        }
      },
      "source": [
        "plt.plot(epochs,loss,label='Training_loss',color='blue')\n",
        "plt.plot(epochs,val_loss,label='Validation_loss',color='red')\n",
        "plt.legend()\n",
        "plt.title(\"Training and Validation loss\")"
      ],
      "execution_count": 191,
      "outputs": [
        {
          "output_type": "execute_result",
          "data": {
            "text/plain": [
              "Text(0.5, 1.0, 'Training and Validation loss')"
            ]
          },
          "metadata": {
            "tags": []
          },
          "execution_count": 191
        },
        {
          "output_type": "display_data",
          "data": {
            "image/png": "[encoded data removed]",
            "text/plain": [
              "<Figure size 432x288 with 1 Axes>"
            ]
          },
          "metadata": {
            "tags": [],
            "needs_background": "light"
          }
        }
      ]
    },
    {
      "cell_type": "code",
      "metadata": {
        "id": "hSoFOckS-clu"
      },
      "source": [
        "def preprocess(tweet):\n",
        "    review=re.sub('@\\S+|https?:\\S+|http?:\\S|[^A-Za-z0-9]+',' ',tweet)\n",
        "    review=review.lower()\n",
        "    review=review.split()\n",
        "    review=[word for word in review if not word in stop_words]\n",
        "    print(review)\n",
        "    review=pad_sequences(tokenizer.texts_to_sequences([review]), maxlen=300)\n",
        "    return review"
      ],
      "execution_count": null,
      "outputs": []
    },
    {
      "cell_type": "code",
      "metadata": {
        "id": "yap6ACtn-p36"
      },
      "source": [
        "def prediction(review):\n",
        "    review=preprocess(review)\n",
        "    score=model.predict(review)\n",
        "    score=score[0]\n",
        "    if score<0.4:\n",
        "        print(\"Negative\")\n",
        "    elif score>0.4 and score<0.6:\n",
        "        print(\"Neutral\")\n",
        "    else:\n",
        "        print(\"Positive\")\n",
        "    print(score)"
      ],
      "execution_count": 192,
      "outputs": []
    },
    {
      "cell_type": "code",
      "metadata": {
        "id": "_R1p5sfR-tx1",
        "outputId": "2f2d90b0-3a38-4fb3-bbf0-4bf0aa03dbd1",
        "colab": {
          "base_uri": "https://localhost:8080/",
          "height": 34
        }
      },
      "source": [
        "scores = model.predict(X_test, verbose=1, batch_size=1024)"
      ],
      "execution_count": 193,
      "outputs": [
        {
          "output_type": "stream",
          "text": [
            "9/9 [==============================] - 19s 2s/step\n"
          ],
          "name": "stdout"
        }
      ]
    },
    {
      "cell_type": "code",
      "metadata": {
        "id": "aQXF4QHM-3tR",
        "outputId": "0a843f3b-ef55-4609-a7a9-cff182a25d24",
        "colab": {
          "base_uri": "https://localhost:8080/",
          "height": 136
        }
      },
      "source": [
        "scores"
      ],
      "execution_count": 194,
      "outputs": [
        {
          "output_type": "execute_result",
          "data": {
            "text/plain": [
              "array([[9.0293834e-06],\n",
              "       [1.3834462e-05],\n",
              "       [8.0891186e-06],\n",
              "       ...,\n",
              "       [1.4659309e-05],\n",
              "       [1.3522329e-05],\n",
              "       [7.7875720e-06]], dtype=float32)"
            ]
          },
          "metadata": {
            "tags": []
          },
          "execution_count": 194
        }
      ]
    },
    {
      "cell_type": "code",
      "metadata": {
        "id": "ExG-PMdf-6Lb"
      },
      "source": [
        "y_pred=np.where(scores>0.5,1,0)"
      ],
      "execution_count": 202,
      "outputs": []
    },
    {
      "cell_type": "code",
      "metadata": {
        "id": "9LFvWCQ_-8Wz",
        "outputId": "e95d4299-4bef-42c2-a4f6-779a7f05138c",
        "colab": {
          "base_uri": "https://localhost:8080/",
          "height": 136
        }
      },
      "source": [
        "y_pred"
      ],
      "execution_count": 203,
      "outputs": [
        {
          "output_type": "execute_result",
          "data": {
            "text/plain": [
              "array([[0],\n",
              "       [0],\n",
              "       [0],\n",
              "       ...,\n",
              "       [0],\n",
              "       [0],\n",
              "       [0]])"
            ]
          },
          "metadata": {
            "tags": []
          },
          "execution_count": 203
        }
      ]
    },
    {
      "cell_type": "code",
      "metadata": {
        "id": "vAqzu1Xq--fl",
        "outputId": "ec928a06-0949-4629-ea37-402cb9026787",
        "colab": {
          "base_uri": "https://localhost:8080/",
          "height": 34
        }
      },
      "source": [
        "y_test"
      ],
      "execution_count": 197,
      "outputs": [
        {
          "output_type": "execute_result",
          "data": {
            "text/plain": [
              "array([0, 0, 0, ..., 0, 0, 0])"
            ]
          },
          "metadata": {
            "tags": []
          },
          "execution_count": 197
        }
      ]
    },
    {
      "cell_type": "code",
      "metadata": {
        "id": "mGrFeTvI_Aqy",
        "outputId": "1d460f91-3aae-4ba3-85c3-e603bccbc034",
        "colab": {
          "base_uri": "https://localhost:8080/",
          "height": 34
        }
      },
      "source": [
        "cm=confusion_matrix(y_pred,y_test)\n",
        "print(cm)"
      ],
      "execution_count": 206,
      "outputs": [
        {
          "output_type": "stream",
          "text": [
            "[[8475]]\n"
          ],
          "name": "stdout"
        }
      ]
    },
    {
      "cell_type": "code",
      "metadata": {
        "id": "YvqH_G7L_EoK",
        "outputId": "2cfae26e-04c8-4ac1-df95-163cec06bc1b",
        "colab": {
          "base_uri": "https://localhost:8080/",
          "height": 34
        }
      },
      "source": [
        "print(accuracy_score(y_pred,y_test))"
      ],
      "execution_count": 199,
      "outputs": [
        {
          "output_type": "stream",
          "text": [
            "1.0\n"
          ],
          "name": "stdout"
        }
      ]
    },
    {
      "cell_type": "code",
      "metadata": {
        "id": "7VQqqsRw_G8p",
        "outputId": "e3584ffa-6015-4403-8388-e48bb76a4750",
        "colab": {
          "base_uri": "https://localhost:8080/",
          "height": 153
        }
      },
      "source": [
        "print(classification_report(y_test, y_pred))"
      ],
      "execution_count": 200,
      "outputs": [
        {
          "output_type": "stream",
          "text": [
            "              precision    recall  f1-score   support\n",
            "\n",
            "           0       1.00      1.00      1.00      8475\n",
            "\n",
            "    accuracy                           1.00      8475\n",
            "   macro avg       1.00      1.00      1.00      8475\n",
            "weighted avg       1.00      1.00      1.00      8475\n",
            "\n"
          ],
          "name": "stdout"
        }
      ]
    },
    {
      "cell_type": "markdown",
      "metadata": {
        "id": "zNOegdPWEiMO"
      },
      "source": [
        "Hyperparameter Tuning- Build two more models by changing the following hyperparameters one at a time (0.5 + 0.5\n",
        "= 1 mark)"
      ]
    },
    {
      "cell_type": "code",
      "metadata": {
        "id": "2RQptrKbD5rM",
        "outputId": "ef463ab2-1279-4e41-e64a-32dfa0bc1f37",
        "colab": {
          "base_uri": "https://localhost:8080/",
          "height": 808
        }
      },
      "source": [
        "model = Sequential()\n",
        "model.add(embedding_layer)\n",
        "model.add(Dropout(0.5))\n",
        "model.add(LSTM(100, dropout=0.2, recurrent_dropout=0.2))\n",
        "model.add(Dense(1, activation='relu'))\n",
        "model.summary()\n",
        "\n",
        "model.compile(loss='binary_crossentropy',\n",
        "              optimizer=\"adam\",\n",
        "              metrics=['accuracy'])\n",
        "\n",
        "\n",
        "model_history=model.fit(X_train, y_train,batch_size=1024,epochs=2,validation_split=0.1,verbose=1)\n",
        "\n",
        "\n",
        "acc = model_history.history['accuracy']\n",
        "val_acc = model_history.history['val_accuracy']\n",
        "loss = model_history.history['loss']\n",
        "val_loss = model_history.history['val_loss']\n",
        "epochs=range(len(acc))\n",
        "\n",
        "\n",
        "plt.plot(epochs,acc,label='Trainin_acc',color='blue')\n",
        "plt.plot(epochs,val_acc,label='Validation_acc',color='red')\n",
        "plt.legend()\n",
        "plt.title(\"Training and Validation Accuracy\")\n",
        "\n",
        "\n",
        "plt.plot(epochs,loss,label='Training_loss',color='blue')\n",
        "plt.plot(epochs,val_loss,label='Validation_loss',color='red')\n",
        "plt.legend()\n",
        "plt.title(\"Training and Validation loss\")\n",
        "\n",
        "\n",
        "scores = model.predict(X_test, verbose=1, batch_size=1024)\n",
        "\n",
        "y_pred=np.where(scores>0.5,1,0)\n",
        "\n",
        "\n",
        "cm=confusion_matrix(y_pred,y_test)\n",
        "print(cm)\n",
        "\n",
        "print(accuracy_score(y_pred,y_test))\n",
        "\n",
        "print(classification_report(y_test, y_pred))"
      ],
      "execution_count": 207,
      "outputs": [
        {
          "output_type": "stream",
          "text": [
            "Model: \"sequential_8\"\n",
            "_________________________________________________________________\n",
            "Layer (type)                 Output Shape              Param #   \n",
            "=================================================================\n",
            "embedding_1 (Embedding)      (None, 300, 300)          8754900   \n",
            "_________________________________________________________________\n",
            "dropout_14 (Dropout)         (None, 300, 300)          0         \n",
            "_________________________________________________________________\n",
            "lstm_2 (LSTM)                (None, 100)               160400    \n",
            "_________________________________________________________________\n",
            "dense_20 (Dense)             (None, 1)                 101       \n",
            "=================================================================\n",
            "Total params: 8,915,401\n",
            "Trainable params: 160,501\n",
            "Non-trainable params: 8,754,900\n",
            "_________________________________________________________________\n",
            "Epoch 1/2\n",
            "30/30 [==============================] - 370s 12s/step - loss: 0.0063 - accuracy: 0.9993 - val_loss: 0.0000e+00 - val_accuracy: 1.0000\n",
            "Epoch 2/2\n",
            "30/30 [==============================] - 374s 12s/step - loss: 2.4241e-05 - accuracy: 1.0000 - val_loss: 0.0000e+00 - val_accuracy: 1.0000\n",
            "9/9 [==============================] - 19s 2s/step\n",
            "[[8475]]\n",
            "1.0\n",
            "              precision    recall  f1-score   support\n",
            "\n",
            "           0       1.00      1.00      1.00      8475\n",
            "\n",
            "    accuracy                           1.00      8475\n",
            "   macro avg       1.00      1.00      1.00      8475\n",
            "weighted avg       1.00      1.00      1.00      8475\n",
            "\n"
          ],
          "name": "stdout"
        },
        {
          "output_type": "display_data",
          "data": {
            "image/png": "[encoded data removed]",
            "text/plain": [
              "<Figure size 432x288 with 1 Axes>"
            ]
          },
          "metadata": {
            "tags": [],
            "needs_background": "light"
          }
        }
      ]
    },
    {
      "cell_type": "markdown",
      "metadata": {
        "id": "B1AJx6UVGPiC"
      },
      "source": [
        "tanh"
      ]
    },
    {
      "cell_type": "code",
      "metadata": {
        "id": "BIhQk2dRGSwi",
        "outputId": "0d106d7d-d312-4a93-a88c-e1d71a4964a7",
        "colab": {
          "base_uri": "https://localhost:8080/",
          "height": 808
        }
      },
      "source": [
        "model = Sequential()\n",
        "model.add(embedding_layer)\n",
        "model.add(Dropout(0.5))\n",
        "model.add(LSTM(100, dropout=0.2, recurrent_dropout=0.2))\n",
        "model.add(Dense(1, activation='tanh'))\n",
        "model.summary()\n",
        "\n",
        "model.compile(loss='binary_crossentropy',\n",
        "              optimizer=\"adam\",\n",
        "              metrics=['accuracy'])\n",
        "\n",
        "\n",
        "model_history=model.fit(X_train, y_train,batch_size=1024,epochs=2,validation_split=0.1,verbose=1)\n",
        "\n",
        "\n",
        "acc = model_history.history['accuracy']\n",
        "val_acc = model_history.history['val_accuracy']\n",
        "loss = model_history.history['loss']\n",
        "val_loss = model_history.history['val_loss']\n",
        "epochs=range(len(acc))\n",
        "\n",
        "\n",
        "\n",
        "\n",
        "\n",
        "scores = model.predict(X_test, verbose=1, batch_size=1024)\n",
        "\n",
        "y_pred=np.where(scores>0.5,1,0)\n",
        "\n",
        "\n",
        "cm=confusion_matrix(y_pred,y_test)\n",
        "print(cm)\n",
        "\n",
        "print(accuracy_score(y_pred,y_test))\n",
        "\n",
        "print(classification_report(y_test, y_pred))"
      ],
      "execution_count": 208,
      "outputs": [
        {
          "output_type": "stream",
          "text": [
            "Model: \"sequential_9\"\n",
            "_________________________________________________________________\n",
            "Layer (type)                 Output Shape              Param #   \n",
            "=================================================================\n",
            "embedding_1 (Embedding)      (None, 300, 300)          8754900   \n",
            "_________________________________________________________________\n",
            "dropout_15 (Dropout)         (None, 300, 300)          0         \n",
            "_________________________________________________________________\n",
            "lstm_3 (LSTM)                (None, 100)               160400    \n",
            "_________________________________________________________________\n",
            "dense_21 (Dense)             (None, 1)                 101       \n",
            "=================================================================\n",
            "Total params: 8,915,401\n",
            "Trainable params: 160,501\n",
            "Non-trainable params: 8,754,900\n",
            "_________________________________________________________________\n",
            "Epoch 1/2\n",
            "30/30 [==============================] - 380s 13s/step - loss: 0.0070 - accuracy: 0.9994 - val_loss: 0.0000e+00 - val_accuracy: 1.0000\n",
            "Epoch 2/2\n",
            "30/30 [==============================] - 378s 13s/step - loss: 1.6948e-05 - accuracy: 1.0000 - val_loss: 0.0000e+00 - val_accuracy: 1.0000\n",
            "9/9 [==============================] - 20s 2s/step\n",
            "[[8475]]\n",
            "1.0\n",
            "              precision    recall  f1-score   support\n",
            "\n",
            "           0       1.00      1.00      1.00      8475\n",
            "\n",
            "    accuracy                           1.00      8475\n",
            "   macro avg       1.00      1.00      1.00      8475\n",
            "weighted avg       1.00      1.00      1.00      8475\n",
            "\n"
          ],
          "name": "stdout"
        },
        {
          "output_type": "display_data",
          "data": {
            "image/png": "[encoded data removed]",
            "text/plain": [
              "<Figure size 432x288 with 1 Axes>"
            ]
          },
          "metadata": {
            "tags": [],
            "needs_background": "light"
          }
        }
      ]
    },
    {
      "cell_type": "code",
      "metadata": {
        "id": "lX1gh1sJKs6P",
        "outputId": "7ca5a57c-0457-4ace-90a0-123959c17877",
        "colab": {
          "base_uri": "https://localhost:8080/",
          "height": 298
        }
      },
      "source": [
        "plt.plot(epochs,acc,label='Trainin_acc',color='blue')\n",
        "plt.plot(epochs,val_acc,label='Validation_acc',color='red')\n",
        "plt.legend()\n",
        "plt.title(\"Training and Validation Accuracy\")\n",
        "\n"
      ],
      "execution_count": 209,
      "outputs": [
        {
          "output_type": "execute_result",
          "data": {
            "text/plain": [
              "Text(0.5, 1.0, 'Training and Validation Accuracy')"
            ]
          },
          "metadata": {
            "tags": []
          },
          "execution_count": 209
        },
        {
          "output_type": "display_data",
          "data": {
            "image/png": "[encoded data removed]",
            "text/plain": [
              "<Figure size 432x288 with 1 Axes>"
            ]
          },
          "metadata": {
            "tags": [],
            "needs_background": "light"
          }
        }
      ]
    },
    {
      "cell_type": "code",
      "metadata": {
        "id": "2KXz4kARKvzI",
        "outputId": "b0633a19-c33e-4aba-e59b-a620c9ec623b",
        "colab": {
          "base_uri": "https://localhost:8080/",
          "height": 298
        }
      },
      "source": [
        "\n",
        "plt.plot(epochs,loss,label='Training_loss',color='blue')\n",
        "plt.plot(epochs,val_loss,label='Validation_loss',color='red')\n",
        "plt.legend()\n",
        "plt.title(\"Training and Validation loss\")"
      ],
      "execution_count": 210,
      "outputs": [
        {
          "output_type": "execute_result",
          "data": {
            "text/plain": [
              "Text(0.5, 1.0, 'Training and Validation loss')"
            ]
          },
          "metadata": {
            "tags": []
          },
          "execution_count": 210
        },
        {
          "output_type": "display_data",
          "data": {
            "image/png": "[encoded data removed]",
            "text/plain": [
              "<Figure size 432x288 with 1 Axes>"
            ]
          },
          "metadata": {
            "tags": [],
            "needs_background": "light"
          }
        }
      ]
    }
  ]
}