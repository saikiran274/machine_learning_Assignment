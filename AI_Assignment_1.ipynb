{
 "cells": [
  {
   "cell_type": "code",
   "execution_count": 1,
   "metadata": {},
   "outputs": [],
   "source": [
    "import math"
   ]
  },
  {
   "cell_type": "code",
   "execution_count": 2,
   "metadata": {},
   "outputs": [],
   "source": [
    "# Creating a dictionary with each city and it's neighbouring cities\n",
    "\n",
    "path_graph = {\n",
    "    'panji': [{'raichur': 457}, {'mangalore': 365}, {'bellari': 409}],\n",
    "    'raichur': [{'panji': 457}, {'kurnool': 100}, {'tirupati': 453}],\n",
    "    'mangalore': [{'panji': 365}, {'kozhikode': 233}, {'bangalore': 352}],\n",
    "    'bellari': [{'panji': 409}, {'tirupati': 379}, {'bangalore': 311}],\n",
    "    'tirupati': [{'raichur': 453}, {'kurnool': 340}, {'bellari': 379}, {'nellore': 136}, {'chennai': 153}],\n",
    "    'kurnool': [{'raichur': 100}, {'tirupati': 340}, {'nellore': 325}],\n",
    "    'kozhikode': [{'mangalore': 233}, {'bangalore': 356}],\n",
    "    'bangalore': [{'bellari': 311}, {'mangalore': 352}, {'kozhikode': 356}, {'chennai': 346}],\n",
    "    'nellore': [{'kurnool': 325}, {'tirupati': 136}, {'chennai': 175}],\n",
    "    'chennai': [{'tirupati': 153}, {'nellore': 175}, {'bangalore': 346}]\n",
    "}"
   ]
  },
  {
   "cell_type": "code",
   "execution_count": 3,
   "metadata": {},
   "outputs": [],
   "source": [
    "# Creating a Coordinate dict to calculate ‘haversine' formula\n",
    "\n",
    "coordinate_dict = {\n",
    "    'panji': [15.4909, 73.8278],\n",
    "    'raichur': [16.2076, 77.3463],\n",
    "    'mangalore': [12.9141, 74.8560],\n",
    "    'bellari': [15.1394, 76.9214],\n",
    "    'tirupati': [13.6288, 79.4192],\n",
    "    'kurnool': [15.8281, 78.0373],\n",
    "    'kozhikode': [11.2588, 75.7804],\n",
    "    'bangalore': [12.9716, 77.5946],\n",
    "    'nellore': [14.4426, 79.9865],\n",
    "    'chennai': [13.0827, 80.2707]\n",
    "}"
   ]
  },
  {
   "cell_type": "code",
   "execution_count": 4,
   "metadata": {},
   "outputs": [],
   "source": [
    "# Function to calculate 'haversine' formula\n",
    "\n",
    "def cal_h_cost():\n",
    "    h_dict = {}\n",
    "    for key in path_graph.keys():\n",
    "        lat1 = coordinate_dict[key][0]\n",
    "        lon1 = coordinate_dict[key][1]\n",
    "        lat2 = 13.0827\n",
    "        lon2 = 80.2707\n",
    "\n",
    "        dis_lat = (lat2 - lat1) * math.pi / 180.0\n",
    "        dis_lon = (lon2 - lon1) * math.pi / 180.0\n",
    "\n",
    "        lat1 = lat1 * math.pi / 180.0\n",
    "        lat2 = lat2 * math.pi / 180.0\n",
    "\n",
    "        a = (pow(math.sin(dis_lat / 2), 2) +\n",
    "             pow(math.sin(dis_lon / 2), 2) *\n",
    "             math.cos(lat1) * math.cos(lat2));\n",
    "        rad = 6371\n",
    "        c = 2 * math.asin(math.sqrt(a))\n",
    "        h_cost = rad * c\n",
    "\n",
    "        h_dict.update({key: h_cost})\n",
    "\n",
    "    return h_dict"
   ]
  },
  {
   "cell_type": "code",
   "execution_count": 5,
   "metadata": {},
   "outputs": [],
   "source": [
    "# Creating a h_cost dictionary for each city to goal city\n",
    "h_cost_dict = cal_h_cost()"
   ]
  },
  {
   "cell_type": "code",
   "execution_count": 6,
   "metadata": {},
   "outputs": [],
   "source": [
    "# Creating a Traversed list and Frontier dictionary\n",
    "traversed = []\n",
    "frontier = {}"
   ]
  },
  {
   "cell_type": "code",
   "execution_count": 7,
   "metadata": {},
   "outputs": [],
   "source": [
    "# Function to calculate the path cost between two cities.\n",
    "\n",
    "def cal_path_cost(from_city, to_city, cur_dist=0):\n",
    "    for i, d in enumerate(path_graph[from_city]):\n",
    "        city_name = list(d.keys())[0]\n",
    "        if city_name == to_city:\n",
    "            path_cost = list(d.values())[0]\n",
    "            return path_cost + cur_dist"
   ]
  },
  {
   "cell_type": "code",
   "execution_count": 8,
   "metadata": {},
   "outputs": [],
   "source": [
    "# Function to calculate the f_cost\n",
    "\n",
    "def cal_f_cost(from_city, to_city, total_cost):\n",
    "    h_cost = h_cost_dict[to_city]\n",
    "    f_cost = total_cost + h_cost\n",
    "\n",
    "    return f_cost"
   ]
  },
  {
   "cell_type": "code",
   "execution_count": 9,
   "metadata": {},
   "outputs": [],
   "source": [
    "# Function to expand the current city with its neighbouring city\n",
    "\n",
    "def expand(city, cur_path_dist):\n",
    "    for i, d in enumerate(path_graph[city]):\n",
    "        city_name = list(d.keys())[0]\n",
    "        city_cost = list(d.values())[0] + cur_path_dist\n",
    "        f_cost = cal_f_cost(city, city_name, city_cost)\n",
    "        if city_name not in traversed:\n",
    "            frontier[city_name] = f_cost\n",
    "    traversed.append(city)"
   ]
  },
  {
   "cell_type": "code",
   "execution_count": 10,
   "metadata": {},
   "outputs": [],
   "source": [
    "# Function to calculate the next city to be expanded.\n",
    "\n",
    "def get_next_city():\n",
    "    sorted_frontier = sorted(frontier.items(), key=lambda x: (x[1], x[0]))\n",
    "    next_city = sorted_frontier.pop(0)\n",
    "    frontier.pop(next_city[0])\n",
    "\n",
    "    return next_city"
   ]
  },
  {
   "cell_type": "code",
   "execution_count": 11,
   "metadata": {},
   "outputs": [],
   "source": [
    "# Function to check whether the current city is the goal_city.\n",
    "\n",
    "def is_goal(city):\n",
    "    return city == 'chennai'"
   ]
  },
  {
   "cell_type": "code",
   "execution_count": 12,
   "metadata": {},
   "outputs": [],
   "source": [
    "# Function to search the path from the start city to goal city. \n",
    "# Returns Total Distance covered.\n",
    "\n",
    "def search(start_city):\n",
    "    total_path_dist = 0\n",
    "    current_city = start_city\n",
    "    cur_path_dist = 0\n",
    "\n",
    "    expand(start_city, cur_path_dist)\n",
    "\n",
    "    while len(frontier) != 0:\n",
    "        next_city, _ = get_next_city()\n",
    "        if is_goal(next_city):\n",
    "            total_path_dist = cal_path_cost(current_city, next_city, cur_path_dist)\n",
    "            traversed.append(next_city)\n",
    "            break\n",
    "        else:\n",
    "            cur_path_dist = cal_path_cost(current_city, next_city, cur_path_dist)\n",
    "            current_city = next_city\n",
    "            expand(next_city, cur_path_dist)\n",
    "\n",
    "    print(\"Search Complete\")\n",
    "    return total_path_dist"
   ]
  },
  {
   "cell_type": "code",
   "execution_count": 13,
   "metadata": {},
   "outputs": [
    {
     "name": "stdout",
     "output_type": "stream",
     "text": [
      "Search Complete\n",
      "The Total Distance Covered :  941\n",
      "The Path traversed :  ['panji', 'bellari', 'tirupati', 'chennai']\n"
     ]
    }
   ],
   "source": [
    "if __name__ == \"__main__\":\n",
    "    start_city ='panji'\n",
    "    goal_city = 'chennai'\n",
    "    total_dist = search(start_city)\n",
    "    print(\"The Total Distance Covered : \", total_dist)\n",
    "    print(\"The Path traversed : \", traversed)"
   ]
  },
  {
   "cell_type": "code",
   "execution_count": null,
   "metadata": {},
   "outputs": [],
   "source": []
  }
 ],
 "metadata": {
  "kernelspec": {
   "display_name": "Python 3",
   "language": "python",
   "name": "python3"
  },
  "language_info": {
   "codemirror_mode": {
    "name": "ipython",
    "version": 3
   },
   "file_extension": ".py",
   "mimetype": "text/x-python",
   "name": "python",
   "nbconvert_exporter": "python",
   "pygments_lexer": "ipython3",
   "version": "3.7.4"
  }
 },
 "nbformat": 4,
 "nbformat_minor": 4
}
